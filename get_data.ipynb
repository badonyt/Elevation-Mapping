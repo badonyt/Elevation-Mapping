{
 "cells": [
  {
   "cell_type": "code",
   "execution_count": 1,
   "metadata": {},
   "outputs": [],
   "source": [
    "import pandas as pd\n",
    "import numpy as np\n",
    "import requests\n",
    "import csv\n",
    "import os \n"
   ]
  },
  {
   "cell_type": "markdown",
   "metadata": {},
   "source": [
    "Key"
   ]
  },
  {
   "cell_type": "code",
   "execution_count": 2,
   "metadata": {},
   "outputs": [],
   "source": [
    "key = \"k82dqSg6f-58htatRZ5ksbd4gPf6-9\""
   ]
  },
  {
   "cell_type": "markdown",
   "metadata": {},
   "source": [
    "Longitude var"
   ]
  },
  {
   "cell_type": "code",
   "execution_count": 3,
   "metadata": {},
   "outputs": [],
   "source": [
    "long = -80.12\n",
    "lat = 0\n",
    "data = []\n"
   ]
  },
  {
   "cell_type": "markdown",
   "metadata": {},
   "source": [
    "Get Request from the API"
   ]
  },
  {
   "cell_type": "code",
   "execution_count": 4,
   "metadata": {},
   "outputs": [],
   "source": [
    "for i in range(0,100):\n",
    "    \n",
    "    response = requests.get(f'https://elevation-api.io/api/elevation?points=({lat},{long + (i * 0.045)})&key={key}')\n",
    "    data.append(response)"
   ]
  },
  {
   "cell_type": "markdown",
   "metadata": {},
   "source": [
    "Testing"
   ]
  },
  {
   "cell_type": "code",
   "execution_count": 5,
   "metadata": {},
   "outputs": [
    {
     "name": "stdout",
     "output_type": "stream",
     "text": [
      "[{'lat': 0.0, 'lon': -80.12, 'elevation': 85.5}]\n",
      "{'lat': 0.0, 'lon': -80.12, 'elevation': 85.5}\n"
     ]
    },
    {
     "data": {
      "text/plain": [
       "float"
      ]
     },
     "execution_count": 5,
     "metadata": {},
     "output_type": "execute_result"
    }
   ],
   "source": [
    "x = data[0].json()\n",
    "print(x['elevations'])\n",
    "print(x['elevations'][0])\n",
    "type(x['elevations'][0]['lon'])\n",
    "type(x['elevations'][0]['elevation'])\n"
   ]
  },
  {
   "cell_type": "markdown",
   "metadata": {},
   "source": [
    "Getting the data into dictionary"
   ]
  },
  {
   "cell_type": "code",
   "execution_count": 6,
   "metadata": {},
   "outputs": [],
   "source": [
    "data_dictionary = {}\n",
    "# temp = {}\n",
    "# temp['long'] = []\n",
    "# temp['elevation'] = []\n",
    "\n",
    "for i in data:\n",
    "    d = i.json()\n",
    "    l = d['elevations'][0]['lon']\n",
    "    e = d['elevations'][0]['elevation']\n",
    "    # temp['long'].append(l)\n",
    "    # temp['elevation'].append(e)\n",
    "    data_dictionary[l] = e"
   ]
  },
  {
   "cell_type": "markdown",
   "metadata": {},
   "source": [
    "Write CSV file "
   ]
  },
  {
   "cell_type": "code",
   "execution_count": 7,
   "metadata": {},
   "outputs": [],
   "source": [
    "a_file = open(\"./data/data.csv\", \"w\")\n",
    "# remember about the a \n",
    "headerlist = [\"longitude\", \"elevation\"]\n",
    "\n",
    "writer = csv.writer(a_file)\n",
    "writer.writerow(headerlist)\n",
    "\n",
    "for key, value in data_dictionary.items():  \n",
    "    writer.writerow([key, value])\n",
    "    \n",
    "\n",
    "a_file.close()"
   ]
  }
 ],
 "metadata": {
  "interpreter": {
   "hash": "cab4f384d397f76fc2d513525ba12c76753da77ed8fc41deba11213a3a81736d"
  },
  "kernelspec": {
   "display_name": "Python 3.9.7 64-bit ('py9': conda)",
   "language": "python",
   "name": "python3"
  },
  "language_info": {
   "codemirror_mode": {
    "name": "ipython",
    "version": 3
   },
   "file_extension": ".py",
   "mimetype": "text/x-python",
   "name": "python",
   "nbconvert_exporter": "python",
   "pygments_lexer": "ipython3",
   "version": "3.9.7"
  },
  "orig_nbformat": 4
 },
 "nbformat": 4,
 "nbformat_minor": 2
}
